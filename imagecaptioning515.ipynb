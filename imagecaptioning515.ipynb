{
 "cells": [
  {
   "cell_type": "code",
   "execution_count": 1,
   "id": "5671bf4a",
   "metadata": {
    "_cell_guid": "b1076dfc-b9ad-4769-8c92-a6c4dae69d19",
    "_uuid": "8f2839f25d086af736a60e9eeb907d3b93b6e0e5",
    "execution": {
     "iopub.execute_input": "2022-03-24T21:17:59.673678Z",
     "iopub.status.busy": "2022-03-24T21:17:59.666892Z",
     "iopub.status.idle": "2022-03-24T21:18:01.158498Z",
     "shell.execute_reply": "2022-03-24T21:18:01.159061Z",
     "shell.execute_reply.started": "2022-03-24T20:55:37.789618Z"
    },
    "papermill": {
     "duration": 1.50227,
     "end_time": "2022-03-24T21:18:01.159356",
     "exception": false,
     "start_time": "2022-03-24T21:17:59.657086",
     "status": "completed"
    },
    "tags": []
   },
   "outputs": [],
   "source": [
    "import torch\n",
    "import torch.nn as nn\n",
    "import torchvision.models as models"
   ]
  },
  {
   "cell_type": "code",
   "execution_count": 2,
   "id": "d9642d29",
   "metadata": {
    "execution": {
     "iopub.execute_input": "2022-03-24T21:18:01.172448Z",
     "iopub.status.busy": "2022-03-24T21:18:01.171769Z",
     "iopub.status.idle": "2022-03-24T21:18:01.176167Z",
     "shell.execute_reply": "2022-03-24T21:18:01.175583Z",
     "shell.execute_reply.started": "2022-03-24T20:55:44.398048Z"
    },
    "papermill": {
     "duration": 0.012155,
     "end_time": "2022-03-24T21:18:01.176311",
     "exception": false,
     "start_time": "2022-03-24T21:18:01.164156",
     "status": "completed"
    },
    "tags": []
   },
   "outputs": [],
   "source": [
    "device = torch.device(\"cuda\" if torch.cuda.is_available() else \"cpu\")\n"
   ]
  },
  {
   "cell_type": "code",
   "execution_count": 3,
   "id": "775d80dc",
   "metadata": {
    "execution": {
     "iopub.execute_input": "2022-03-24T21:18:01.190354Z",
     "iopub.status.busy": "2022-03-24T21:18:01.189662Z",
     "iopub.status.idle": "2022-03-24T21:18:01.191313Z",
     "shell.execute_reply": "2022-03-24T21:18:01.191821Z"
    },
    "papermill": {
     "duration": 0.011237,
     "end_time": "2022-03-24T21:18:01.191992",
     "exception": false,
     "start_time": "2022-03-24T21:18:01.180755",
     "status": "completed"
    },
    "tags": []
   },
   "outputs": [],
   "source": [
    "class EncoderNN(nn.Module):\n",
    "    def __init__(self,embed_size, train_CNN=False):\n",
    "        pass\n",
    "        "
   ]
  }
 ],
 "metadata": {
  "kernelspec": {
   "display_name": "Python 3",
   "language": "python",
   "name": "python3"
  },
  "language_info": {
   "codemirror_mode": {
    "name": "ipython",
    "version": 3
   },
   "file_extension": ".py",
   "mimetype": "text/x-python",
   "name": "python",
   "nbconvert_exporter": "python",
   "pygments_lexer": "ipython3",
   "version": "3.7.12"
  },
  "papermill": {
   "default_parameters": {},
   "duration": 12.680766,
   "end_time": "2022-03-24T21:18:02.007263",
   "environment_variables": {},
   "exception": null,
   "input_path": "__notebook__.ipynb",
   "output_path": "__notebook__.ipynb",
   "parameters": {},
   "start_time": "2022-03-24T21:17:49.326497",
   "version": "2.3.3"
  }
 },
 "nbformat": 4,
 "nbformat_minor": 5
}
